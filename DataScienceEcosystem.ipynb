{
 "cells": [
  {
   "cell_type": "markdown",
   "id": "1fc0243b",
   "metadata": {},
   "source": [
    "# Data Science Tools and Ecosystem"
   ]
  },
  {
   "cell_type": "markdown",
   "id": "8830934e",
   "metadata": {},
   "source": [
    "#### In this notebook, Data Science Tools and Ecosystem are summarized."
   ]
  },
  {
   "cell_type": "markdown",
   "id": "172bb447",
   "metadata": {},
   "source": [
    "### **Some of the popular languages that Data Scientists use are:**\n",
    "1. Python\n",
    "2. R-Programming Language\n",
    "3. SQL"
   ]
  },
  {
   "cell_type": "markdown",
   "id": "5663dd5e",
   "metadata": {},
   "source": [
    "### **Some of the commonly used libraries used by Data Scientists include:**\n",
    "1. Numpy\n",
    "2. Pandas\n",
    "3. MatplotLib"
   ]
  },
  {
   "cell_type": "markdown",
   "id": "a1e5d2ff",
   "metadata": {},
   "source": [
    "### **Some of the commonly used Data Science tools:**\n",
    "1. Python\n",
    "2. R\n",
    "3. Tableau\n",
    "4. SQL"
   ]
  },
  {
   "cell_type": "markdown",
   "id": "17306c14",
   "metadata": {},
   "source": [
    "## **This a simple arithmetic expression to mutiply then add integers**"
   ]
  },
  {
   "cell_type": "code",
   "execution_count": 6,
   "id": "7ee39b4e",
   "metadata": {},
   "outputs": [
    {
     "data": {
      "text/plain": [
       "27"
      ]
     },
     "execution_count": 6,
     "metadata": {},
     "output_type": "execute_result"
    }
   ],
   "source": [
    "5*4+7"
   ]
  },
  {
   "cell_type": "code",
   "execution_count": 9,
   "id": "e5d900ba",
   "metadata": {},
   "outputs": [
    {
     "name": "stdout",
     "output_type": "stream",
     "text": [
      "150 minutes is equal to 2.50 hours\n"
     ]
    }
   ],
   "source": [
    "# Input: Number of minutes\n",
    "minutes = 150\n",
    "\n",
    "# Conversion\n",
    "hours = minutes / 60\n",
    "\n",
    "# Output\n",
    "print(f\"{minutes} minutes is equal to {hours:.2f} hours\")\n"
   ]
  },
  {
   "cell_type": "markdown",
   "id": "9a87648f",
   "metadata": {},
   "source": [
    "## **Objectives:**\n",
    "\n",
    "1. Some of the popular languages that Data Scientists\n",
    "2. Some of the commonly used libraries used by Data Scientists\n",
    "3. Data Science Tools\n",
    "4. Some Arithmetic expression"
   ]
  },
  {
   "cell_type": "markdown",
   "id": "eca7e4a7",
   "metadata": {},
   "source": [
    "## Author\n",
    "Sunit Yadav"
   ]
  },
  {
   "cell_type": "code",
   "execution_count": null,
   "id": "fa869fd1",
   "metadata": {},
   "outputs": [],
   "source": []
  }
 ],
 "metadata": {
  "kernelspec": {
   "display_name": "Python 3 (ipykernel)",
   "language": "python",
   "name": "python3"
  },
  "language_info": {
   "codemirror_mode": {
    "name": "ipython",
    "version": 3
   },
   "file_extension": ".py",
   "mimetype": "text/x-python",
   "name": "python",
   "nbconvert_exporter": "python",
   "pygments_lexer": "ipython3",
   "version": "3.11.3"
  }
 },
 "nbformat": 4,
 "nbformat_minor": 5
}
